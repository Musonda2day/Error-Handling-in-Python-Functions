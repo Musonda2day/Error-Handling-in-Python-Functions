{
 "cells": [
  {
   "cell_type": "markdown",
   "id": "1261b6e3",
   "metadata": {},
   "source": [
    "## Error Handling in Python Functions"
   ]
  },
  {
   "cell_type": "markdown",
   "id": "a81bd58d",
   "metadata": {},
   "source": [
    "### 1. Introduction\n",
    "\n",
    "When calling functions, we need to ensure that valid arguments are passesd to the function for it to execute correctkly. When we write our own functions, we will want to catch specific problems and print specifuic error messegers that will enable the user to know exactly why the function is not executing.\n",
    "\n"
   ]
  },
  {
   "cell_type": "markdown",
   "id": "d83d406d",
   "metadata": {},
   "source": [
    "### 2.Handling Exceptions\n",
    "\n",
    "An exception is an error that is caught during the execusion of a function. The following is an example of a function that returns the square root of a number."
   ]
  },
  {
   "cell_type": "code",
   "execution_count": 31,
   "id": "f3b4de2c",
   "metadata": {},
   "outputs": [],
   "source": [
    "def sq_root(num):\n",
    "    \"\"\"Returns square root of a number\"\"\"\n",
    "    return num**0.5"
   ]
  },
  {
   "cell_type": "code",
   "execution_count": 32,
   "id": "beb16af5",
   "metadata": {},
   "outputs": [
    {
     "data": {
      "text/plain": [
       "5.0"
      ]
     },
     "execution_count": 32,
     "metadata": {},
     "output_type": "execute_result"
    }
   ],
   "source": [
    "sq_root(25)"
   ]
  },
  {
   "cell_type": "code",
   "execution_count": 33,
   "id": "1dd0e8ed",
   "metadata": {},
   "outputs": [
    {
     "ename": "TypeError",
     "evalue": "unsupported operand type(s) for ** or pow(): 'str' and 'float'",
     "output_type": "error",
     "traceback": [
      "\u001b[1;31m---------------------------------------------------------------------------\u001b[0m",
      "\u001b[1;31mTypeError\u001b[0m                                 Traceback (most recent call last)",
      "Input \u001b[1;32mIn [33]\u001b[0m, in \u001b[0;36m<cell line: 1>\u001b[1;34m()\u001b[0m\n\u001b[1;32m----> 1\u001b[0m \u001b[43msq_root\u001b[49m\u001b[43m(\u001b[49m\u001b[38;5;124;43m'\u001b[39;49m\u001b[38;5;124;43m25\u001b[39;49m\u001b[38;5;124;43m'\u001b[39;49m\u001b[43m)\u001b[49m\n",
      "Input \u001b[1;32mIn [31]\u001b[0m, in \u001b[0;36msq_root\u001b[1;34m(num)\u001b[0m\n\u001b[0;32m      1\u001b[0m \u001b[38;5;28;01mdef\u001b[39;00m \u001b[38;5;21msq_root\u001b[39m(num):\n\u001b[1;32m----> 2\u001b[0m     \u001b[38;5;28;01mreturn\u001b[39;00m \u001b[43mnum\u001b[49m\u001b[38;5;241;43m*\u001b[39;49m\u001b[38;5;241;43m*\u001b[39;49m\u001b[38;5;241;43m0.5\u001b[39;49m\n",
      "\u001b[1;31mTypeError\u001b[0m: unsupported operand type(s) for ** or pow(): 'str' and 'float'"
     ]
    }
   ],
   "source": [
    "sq_root('25')"
   ]
  },
  {
   "cell_type": "markdown",
   "id": "580491f4",
   "metadata": {},
   "source": [
    "When we pass a positive float or integer the function returns the square root of the number correctly. However, if we pass a string to it, an error is thrown, in this case a TypeError. \n",
    "\n",
    "When we write our own functions we want to be able to provide error messages that are usefull to the user. This is were we employ the try-except clause in which case we will specify within the code what the function should 'try' except in a case were it fails then we return an error message. The following is the code that will print out our custom error message."
   ]
  },
  {
   "cell_type": "code",
   "execution_count": 67,
   "id": "9888087d",
   "metadata": {},
   "outputs": [],
   "source": [
    "def sq_root(num):\n",
    "    \"\"\"Returns square root of a number\"\"\"\n",
    "    #the function tries to compute the square root\n",
    "    try:\n",
    "        return num**0.5\n",
    "    \n",
    "    #print error message if input is not integer or float\n",
    "    except:\n",
    "        print('number must be an interger or float')"
   ]
  },
  {
   "cell_type": "code",
   "execution_count": 68,
   "id": "8c73d1ad",
   "metadata": {},
   "outputs": [
    {
     "data": {
      "text/plain": [
       "5.0"
      ]
     },
     "execution_count": 68,
     "metadata": {},
     "output_type": "execute_result"
    }
   ],
   "source": [
    "sq_root(25)"
   ]
  },
  {
   "cell_type": "code",
   "execution_count": 66,
   "id": "1a65a4fa",
   "metadata": {},
   "outputs": [
    {
     "name": "stdout",
     "output_type": "stream",
     "text": [
      "number must be an interger or float\n"
     ]
    }
   ],
   "source": [
    "sq_root('25')"
   ]
  },
  {
   "cell_type": "markdown",
   "id": "2fd85707",
   "metadata": {},
   "source": [
    "### 3. Raising an Error"
   ]
  },
  {
   "cell_type": "markdown",
   "id": "2b50547a",
   "metadata": {},
   "source": [
    "We note that our square root function will return complex numbers for for negative intergers or floats. We only desire that the function only computes square roots for positive numbers. In this case, we might want to raise an error for negative values.\n",
    "\n",
    "The following code in the function checks first whether the number is positive before proceeding to carrying out the computations. If the number is not positive then a Value error is raised. "
   ]
  },
  {
   "cell_type": "code",
   "execution_count": 79,
   "id": "654979f5",
   "metadata": {},
   "outputs": [],
   "source": [
    "def sq_root(num):\n",
    "    \"\"\"Returns square root of a number\"\"\"\n",
    "   \n",
    "    #check wheteher number is string\n",
    "    if type(num)==str:\n",
    "        #raise typeError\n",
    "        raise TypeError('number must be an interger or float')\n",
    "    \n",
    "    #check whether number is less than 0\n",
    "    if num < 0:\n",
    "        #raise ValueError\n",
    "        raise ValueError('number must be non-negative')\n",
    "        \n",
    "    #try the computation catching anyother exceptions\n",
    "    try:\n",
    "        return num**0.5\n",
    "    except:\n",
    "        print('number must be an interger or float')"
   ]
  },
  {
   "cell_type": "markdown",
   "id": "8c28293a",
   "metadata": {},
   "source": [
    "Now if we pass a negative number, we will get ValueError with our custom message printed out. If we enter any other input that is not an interger or float we will get the message in the exception printed out which is specified to catch TypeErrors.Let us try the function with the inputs 25, '25' and -25"
   ]
  },
  {
   "cell_type": "code",
   "execution_count": 80,
   "id": "c0682b37",
   "metadata": {},
   "outputs": [
    {
     "data": {
      "text/plain": [
       "5.0"
      ]
     },
     "execution_count": 80,
     "metadata": {},
     "output_type": "execute_result"
    }
   ],
   "source": [
    "sq_root(25)"
   ]
  },
  {
   "cell_type": "code",
   "execution_count": 81,
   "id": "68ebb21d",
   "metadata": {},
   "outputs": [
    {
     "ename": "TypeError",
     "evalue": "number must be an interger or float",
     "output_type": "error",
     "traceback": [
      "\u001b[1;31m---------------------------------------------------------------------------\u001b[0m",
      "\u001b[1;31mTypeError\u001b[0m                                 Traceback (most recent call last)",
      "Input \u001b[1;32mIn [81]\u001b[0m, in \u001b[0;36m<cell line: 1>\u001b[1;34m()\u001b[0m\n\u001b[1;32m----> 1\u001b[0m \u001b[43msq_root\u001b[49m\u001b[43m(\u001b[49m\u001b[38;5;124;43m'\u001b[39;49m\u001b[38;5;124;43m25\u001b[39;49m\u001b[38;5;124;43m'\u001b[39;49m\u001b[43m)\u001b[49m\n",
      "Input \u001b[1;32mIn [79]\u001b[0m, in \u001b[0;36msq_root\u001b[1;34m(num)\u001b[0m\n\u001b[0;32m      4\u001b[0m \u001b[38;5;66;03m#check wheteher number is string\u001b[39;00m\n\u001b[0;32m      5\u001b[0m \u001b[38;5;28;01mif\u001b[39;00m \u001b[38;5;28mtype\u001b[39m(num)\u001b[38;5;241m==\u001b[39m\u001b[38;5;28mstr\u001b[39m:\n\u001b[0;32m      6\u001b[0m     \u001b[38;5;66;03m#raise typeError\u001b[39;00m\n\u001b[1;32m----> 7\u001b[0m     \u001b[38;5;28;01mraise\u001b[39;00m \u001b[38;5;167;01mTypeError\u001b[39;00m(\u001b[38;5;124m'\u001b[39m\u001b[38;5;124mnumber must be an interger or float\u001b[39m\u001b[38;5;124m'\u001b[39m)\n\u001b[0;32m      9\u001b[0m \u001b[38;5;66;03m#check whether number is less than 0\u001b[39;00m\n\u001b[0;32m     10\u001b[0m \u001b[38;5;28;01mif\u001b[39;00m num \u001b[38;5;241m<\u001b[39m \u001b[38;5;241m0\u001b[39m:\n\u001b[0;32m     11\u001b[0m     \u001b[38;5;66;03m#raise ValueError\u001b[39;00m\n",
      "\u001b[1;31mTypeError\u001b[0m: number must be an interger or float"
     ]
    }
   ],
   "source": [
    "sq_root('25')"
   ]
  },
  {
   "cell_type": "code",
   "execution_count": 82,
   "id": "4ecd7ccc",
   "metadata": {},
   "outputs": [
    {
     "ename": "ValueError",
     "evalue": "number must be non-negative",
     "output_type": "error",
     "traceback": [
      "\u001b[1;31m---------------------------------------------------------------------------\u001b[0m",
      "\u001b[1;31mValueError\u001b[0m                                Traceback (most recent call last)",
      "Input \u001b[1;32mIn [82]\u001b[0m, in \u001b[0;36m<cell line: 2>\u001b[1;34m()\u001b[0m\n\u001b[0;32m      1\u001b[0m \u001b[38;5;66;03m#raise ValueError for non-negative\u001b[39;00m\n\u001b[1;32m----> 2\u001b[0m \u001b[43msq_root\u001b[49m\u001b[43m(\u001b[49m\u001b[38;5;241;43m-\u001b[39;49m\u001b[38;5;241;43m25\u001b[39;49m\u001b[43m)\u001b[49m\n",
      "Input \u001b[1;32mIn [79]\u001b[0m, in \u001b[0;36msq_root\u001b[1;34m(num)\u001b[0m\n\u001b[0;32m      9\u001b[0m \u001b[38;5;66;03m#check whether number is less than 0\u001b[39;00m\n\u001b[0;32m     10\u001b[0m \u001b[38;5;28;01mif\u001b[39;00m num \u001b[38;5;241m<\u001b[39m \u001b[38;5;241m0\u001b[39m:\n\u001b[0;32m     11\u001b[0m     \u001b[38;5;66;03m#raise ValueError\u001b[39;00m\n\u001b[1;32m---> 12\u001b[0m     \u001b[38;5;28;01mraise\u001b[39;00m \u001b[38;5;167;01mValueError\u001b[39;00m(\u001b[38;5;124m'\u001b[39m\u001b[38;5;124mnumber must be non-negative\u001b[39m\u001b[38;5;124m'\u001b[39m)\n\u001b[0;32m     14\u001b[0m \u001b[38;5;66;03m#try the computation catching anyother exceptions\u001b[39;00m\n\u001b[0;32m     15\u001b[0m \u001b[38;5;28;01mtry\u001b[39;00m:\n",
      "\u001b[1;31mValueError\u001b[0m: number must be non-negative"
     ]
    }
   ],
   "source": [
    "#raise ValueError for non-negative\n",
    "sq_root(-25)"
   ]
  },
  {
   "cell_type": "code",
   "execution_count": null,
   "id": "b4f90af1",
   "metadata": {},
   "outputs": [],
   "source": []
  }
 ],
 "metadata": {
  "kernelspec": {
   "display_name": "Python 3 (ipykernel)",
   "language": "python",
   "name": "python3"
  },
  "language_info": {
   "codemirror_mode": {
    "name": "ipython",
    "version": 3
   },
   "file_extension": ".py",
   "mimetype": "text/x-python",
   "name": "python",
   "nbconvert_exporter": "python",
   "pygments_lexer": "ipython3",
   "version": "3.9.7"
  }
 },
 "nbformat": 4,
 "nbformat_minor": 5
}
